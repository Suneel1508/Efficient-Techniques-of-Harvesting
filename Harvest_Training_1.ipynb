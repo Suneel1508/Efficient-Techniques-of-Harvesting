{
 "cells": [
  {
   "cell_type": "code",
   "execution_count": 1,
   "id": "0ebae543-530c-4ec6-8d20-7d634ceb33bf",
   "metadata": {},
   "outputs": [],
   "source": [
    "import numpy as np\n",
    "import pandas as pd\n",
    "import matplotlib.pyplot as plt\n",
    "import seaborn as sns\n",
    "import warnings\n",
    "warnings.filterwarnings('ignore')"
   ]
  },
  {
   "cell_type": "code",
   "execution_count": 2,
   "id": "ba6a280a-c22b-4a4d-b4e5-d9af73775946",
   "metadata": {},
   "outputs": [
    {
     "data": {
      "text/html": [
       "<div>\n",
       "<style scoped>\n",
       "    .dataframe tbody tr th:only-of-type {\n",
       "        vertical-align: middle;\n",
       "    }\n",
       "\n",
       "    .dataframe tbody tr th {\n",
       "        vertical-align: top;\n",
       "    }\n",
       "\n",
       "    .dataframe thead th {\n",
       "        text-align: right;\n",
       "    }\n",
       "</style>\n",
       "<table border=\"1\" class=\"dataframe\">\n",
       "  <thead>\n",
       "    <tr style=\"text-align: right;\">\n",
       "      <th></th>\n",
       "      <th>ID</th>\n",
       "      <th>Estimated_Insects_Count</th>\n",
       "      <th>Crop_Type</th>\n",
       "      <th>Soil_Type</th>\n",
       "      <th>Pesticide_Use_Category</th>\n",
       "      <th>Number_Doses_Week</th>\n",
       "      <th>Number_Weeks_Used</th>\n",
       "      <th>Number_Weeks_Quit</th>\n",
       "      <th>Season</th>\n",
       "      <th>Crop_Damage</th>\n",
       "      <th>source</th>\n",
       "    </tr>\n",
       "  </thead>\n",
       "  <tbody>\n",
       "    <tr>\n",
       "      <th>0</th>\n",
       "      <td>F00000001</td>\n",
       "      <td>188.0</td>\n",
       "      <td>1</td>\n",
       "      <td>0</td>\n",
       "      <td>1</td>\n",
       "      <td>0.0</td>\n",
       "      <td>0.0</td>\n",
       "      <td>0.0</td>\n",
       "      <td>1</td>\n",
       "      <td>0</td>\n",
       "      <td>train</td>\n",
       "    </tr>\n",
       "    <tr>\n",
       "      <th>1</th>\n",
       "      <td>F00000003</td>\n",
       "      <td>209.0</td>\n",
       "      <td>1</td>\n",
       "      <td>0</td>\n",
       "      <td>1</td>\n",
       "      <td>0.0</td>\n",
       "      <td>0.0</td>\n",
       "      <td>0.0</td>\n",
       "      <td>2</td>\n",
       "      <td>1</td>\n",
       "      <td>train</td>\n",
       "    </tr>\n",
       "    <tr>\n",
       "      <th>2</th>\n",
       "      <td>F00000004</td>\n",
       "      <td>257.0</td>\n",
       "      <td>1</td>\n",
       "      <td>0</td>\n",
       "      <td>1</td>\n",
       "      <td>0.0</td>\n",
       "      <td>0.0</td>\n",
       "      <td>0.0</td>\n",
       "      <td>2</td>\n",
       "      <td>1</td>\n",
       "      <td>train</td>\n",
       "    </tr>\n",
       "    <tr>\n",
       "      <th>3</th>\n",
       "      <td>F00000005</td>\n",
       "      <td>257.0</td>\n",
       "      <td>1</td>\n",
       "      <td>1</td>\n",
       "      <td>1</td>\n",
       "      <td>0.0</td>\n",
       "      <td>0.0</td>\n",
       "      <td>0.0</td>\n",
       "      <td>2</td>\n",
       "      <td>1</td>\n",
       "      <td>train</td>\n",
       "    </tr>\n",
       "    <tr>\n",
       "      <th>4</th>\n",
       "      <td>F00000006</td>\n",
       "      <td>342.0</td>\n",
       "      <td>1</td>\n",
       "      <td>0</td>\n",
       "      <td>1</td>\n",
       "      <td>0.0</td>\n",
       "      <td>0.0</td>\n",
       "      <td>0.0</td>\n",
       "      <td>2</td>\n",
       "      <td>1</td>\n",
       "      <td>train</td>\n",
       "    </tr>\n",
       "  </tbody>\n",
       "</table>\n",
       "</div>"
      ],
      "text/plain": [
       "          ID  Estimated_Insects_Count  Crop_Type  Soil_Type  \\\n",
       "0  F00000001                    188.0          1          0   \n",
       "1  F00000003                    209.0          1          0   \n",
       "2  F00000004                    257.0          1          0   \n",
       "3  F00000005                    257.0          1          1   \n",
       "4  F00000006                    342.0          1          0   \n",
       "\n",
       "   Pesticide_Use_Category  Number_Doses_Week  Number_Weeks_Used  \\\n",
       "0                       1                0.0                0.0   \n",
       "1                       1                0.0                0.0   \n",
       "2                       1                0.0                0.0   \n",
       "3                       1                0.0                0.0   \n",
       "4                       1                0.0                0.0   \n",
       "\n",
       "   Number_Weeks_Quit  Season  Crop_Damage source  \n",
       "0                0.0       1            0  train  \n",
       "1                0.0       2            1  train  \n",
       "2                0.0       2            1  train  \n",
       "3                0.0       2            1  train  \n",
       "4                0.0       2            1  train  "
      ]
     },
     "execution_count": 2,
     "metadata": {},
     "output_type": "execute_result"
    }
   ],
   "source": [
    "df=pd.read_csv(\"harvest_cleaned_dataset.csv\")\n",
    "df.head()"
   ]
  },
  {
   "cell_type": "code",
   "execution_count": 5,
   "id": "76c78334-0f8e-467c-a71f-b59909ed45d2",
   "metadata": {},
   "outputs": [
    {
     "data": {
      "text/plain": [
       "0    74238\n",
       "1    12307\n",
       "2     2313\n",
       "Name: Crop_Damage, dtype: int64"
      ]
     },
     "execution_count": 5,
     "metadata": {},
     "output_type": "execute_result"
    }
   ],
   "source": [
    "df['Crop_Damage'].value_counts()"
   ]
  },
  {
   "cell_type": "code",
   "execution_count": 9,
   "id": "a7d30b42-39bd-48db-aeca-2e3e91df73b6",
   "metadata": {},
   "outputs": [],
   "source": [
    "df_damage2 = df[df['Crop_Damage'] == 2]"
   ]
  },
  {
   "cell_type": "code",
   "execution_count": 10,
   "id": "208c816d-116a-4faf-83ad-96b76bdbf4d7",
   "metadata": {},
   "outputs": [
    {
     "data": {
      "text/html": [
       "<div>\n",
       "<style scoped>\n",
       "    .dataframe tbody tr th:only-of-type {\n",
       "        vertical-align: middle;\n",
       "    }\n",
       "\n",
       "    .dataframe tbody tr th {\n",
       "        vertical-align: top;\n",
       "    }\n",
       "\n",
       "    .dataframe thead th {\n",
       "        text-align: right;\n",
       "    }\n",
       "</style>\n",
       "<table border=\"1\" class=\"dataframe\">\n",
       "  <thead>\n",
       "    <tr style=\"text-align: right;\">\n",
       "      <th></th>\n",
       "      <th>ID</th>\n",
       "      <th>Estimated_Insects_Count</th>\n",
       "      <th>Crop_Type</th>\n",
       "      <th>Soil_Type</th>\n",
       "      <th>Pesticide_Use_Category</th>\n",
       "      <th>Number_Doses_Week</th>\n",
       "      <th>Number_Weeks_Used</th>\n",
       "      <th>Number_Weeks_Quit</th>\n",
       "      <th>Season</th>\n",
       "      <th>Crop_Damage</th>\n",
       "      <th>source</th>\n",
       "    </tr>\n",
       "  </thead>\n",
       "  <tbody>\n",
       "    <tr>\n",
       "      <th>7</th>\n",
       "      <td>F00000010</td>\n",
       "      <td>577.000000</td>\n",
       "      <td>1</td>\n",
       "      <td>0</td>\n",
       "      <td>1</td>\n",
       "      <td>0.0</td>\n",
       "      <td>0.0</td>\n",
       "      <td>0.0</td>\n",
       "      <td>1</td>\n",
       "      <td>2</td>\n",
       "      <td>train</td>\n",
       "    </tr>\n",
       "    <tr>\n",
       "      <th>9</th>\n",
       "      <td>F00000020</td>\n",
       "      <td>1132.000000</td>\n",
       "      <td>1</td>\n",
       "      <td>0</td>\n",
       "      <td>1</td>\n",
       "      <td>0.0</td>\n",
       "      <td>0.0</td>\n",
       "      <td>0.0</td>\n",
       "      <td>1</td>\n",
       "      <td>2</td>\n",
       "      <td>train</td>\n",
       "    </tr>\n",
       "    <tr>\n",
       "      <th>14</th>\n",
       "      <td>F00000029</td>\n",
       "      <td>1575.000000</td>\n",
       "      <td>1</td>\n",
       "      <td>1</td>\n",
       "      <td>1</td>\n",
       "      <td>0.0</td>\n",
       "      <td>0.0</td>\n",
       "      <td>0.0</td>\n",
       "      <td>2</td>\n",
       "      <td>2</td>\n",
       "      <td>train</td>\n",
       "    </tr>\n",
       "    <tr>\n",
       "      <th>103</th>\n",
       "      <td>F00000193</td>\n",
       "      <td>625.000000</td>\n",
       "      <td>0</td>\n",
       "      <td>1</td>\n",
       "      <td>3</td>\n",
       "      <td>30.0</td>\n",
       "      <td>29.0</td>\n",
       "      <td>0.0</td>\n",
       "      <td>1</td>\n",
       "      <td>2</td>\n",
       "      <td>train</td>\n",
       "    </tr>\n",
       "    <tr>\n",
       "      <th>112</th>\n",
       "      <td>F00000217</td>\n",
       "      <td>732.000000</td>\n",
       "      <td>0</td>\n",
       "      <td>0</td>\n",
       "      <td>3</td>\n",
       "      <td>50.0</td>\n",
       "      <td>30.0</td>\n",
       "      <td>0.0</td>\n",
       "      <td>2</td>\n",
       "      <td>2</td>\n",
       "      <td>train</td>\n",
       "    </tr>\n",
       "    <tr>\n",
       "      <th>...</th>\n",
       "      <td>...</td>\n",
       "      <td>...</td>\n",
       "      <td>...</td>\n",
       "      <td>...</td>\n",
       "      <td>...</td>\n",
       "      <td>...</td>\n",
       "      <td>...</td>\n",
       "      <td>...</td>\n",
       "      <td>...</td>\n",
       "      <td>...</td>\n",
       "      <td>...</td>\n",
       "    </tr>\n",
       "    <tr>\n",
       "      <th>88470</th>\n",
       "      <td>F00155221</td>\n",
       "      <td>3165.000000</td>\n",
       "      <td>0</td>\n",
       "      <td>1</td>\n",
       "      <td>2</td>\n",
       "      <td>40.0</td>\n",
       "      <td>40.0</td>\n",
       "      <td>18.0</td>\n",
       "      <td>1</td>\n",
       "      <td>2</td>\n",
       "      <td>train</td>\n",
       "    </tr>\n",
       "    <tr>\n",
       "      <th>88479</th>\n",
       "      <td>F00155242</td>\n",
       "      <td>3516.000000</td>\n",
       "      <td>0</td>\n",
       "      <td>1</td>\n",
       "      <td>2</td>\n",
       "      <td>25.0</td>\n",
       "      <td>50.0</td>\n",
       "      <td>4.0</td>\n",
       "      <td>3</td>\n",
       "      <td>2</td>\n",
       "      <td>train</td>\n",
       "    </tr>\n",
       "    <tr>\n",
       "      <th>88493</th>\n",
       "      <td>F00155265</td>\n",
       "      <td>1358.089433</td>\n",
       "      <td>0</td>\n",
       "      <td>1</td>\n",
       "      <td>2</td>\n",
       "      <td>60.0</td>\n",
       "      <td>48.0</td>\n",
       "      <td>10.0</td>\n",
       "      <td>1</td>\n",
       "      <td>2</td>\n",
       "      <td>train</td>\n",
       "    </tr>\n",
       "    <tr>\n",
       "      <th>88552</th>\n",
       "      <td>F00155357</td>\n",
       "      <td>448.000000</td>\n",
       "      <td>1</td>\n",
       "      <td>0</td>\n",
       "      <td>2</td>\n",
       "      <td>20.0</td>\n",
       "      <td>20.0</td>\n",
       "      <td>11.0</td>\n",
       "      <td>2</td>\n",
       "      <td>2</td>\n",
       "      <td>train</td>\n",
       "    </tr>\n",
       "    <tr>\n",
       "      <th>88741</th>\n",
       "      <td>F00155711</td>\n",
       "      <td>1385.000000</td>\n",
       "      <td>1</td>\n",
       "      <td>0</td>\n",
       "      <td>2</td>\n",
       "      <td>20.0</td>\n",
       "      <td>37.0</td>\n",
       "      <td>8.0</td>\n",
       "      <td>1</td>\n",
       "      <td>2</td>\n",
       "      <td>train</td>\n",
       "    </tr>\n",
       "  </tbody>\n",
       "</table>\n",
       "<p>2313 rows × 11 columns</p>\n",
       "</div>"
      ],
      "text/plain": [
       "              ID  Estimated_Insects_Count  Crop_Type  Soil_Type  \\\n",
       "7      F00000010               577.000000          1          0   \n",
       "9      F00000020              1132.000000          1          0   \n",
       "14     F00000029              1575.000000          1          1   \n",
       "103    F00000193               625.000000          0          1   \n",
       "112    F00000217               732.000000          0          0   \n",
       "...          ...                      ...        ...        ...   \n",
       "88470  F00155221              3165.000000          0          1   \n",
       "88479  F00155242              3516.000000          0          1   \n",
       "88493  F00155265              1358.089433          0          1   \n",
       "88552  F00155357               448.000000          1          0   \n",
       "88741  F00155711              1385.000000          1          0   \n",
       "\n",
       "       Pesticide_Use_Category  Number_Doses_Week  Number_Weeks_Used  \\\n",
       "7                           1                0.0                0.0   \n",
       "9                           1                0.0                0.0   \n",
       "14                          1                0.0                0.0   \n",
       "103                         3               30.0               29.0   \n",
       "112                         3               50.0               30.0   \n",
       "...                       ...                ...                ...   \n",
       "88470                       2               40.0               40.0   \n",
       "88479                       2               25.0               50.0   \n",
       "88493                       2               60.0               48.0   \n",
       "88552                       2               20.0               20.0   \n",
       "88741                       2               20.0               37.0   \n",
       "\n",
       "       Number_Weeks_Quit  Season  Crop_Damage source  \n",
       "7                    0.0       1            2  train  \n",
       "9                    0.0       1            2  train  \n",
       "14                   0.0       2            2  train  \n",
       "103                  0.0       1            2  train  \n",
       "112                  0.0       2            2  train  \n",
       "...                  ...     ...          ...    ...  \n",
       "88470               18.0       1            2  train  \n",
       "88479                4.0       3            2  train  \n",
       "88493               10.0       1            2  train  \n",
       "88552               11.0       2            2  train  \n",
       "88741                8.0       1            2  train  \n",
       "\n",
       "[2313 rows x 11 columns]"
      ]
     },
     "execution_count": 10,
     "metadata": {},
     "output_type": "execute_result"
    }
   ],
   "source": [
    "df_damage2"
   ]
  },
  {
   "cell_type": "code",
   "execution_count": 11,
   "id": "0aa15ab9-e0b4-42a1-abb3-a7a93f5348cc",
   "metadata": {},
   "outputs": [],
   "source": [
    "df_damage2.to_csv('harvest_damage_2.csv',index=False)"
   ]
  },
  {
   "cell_type": "code",
   "execution_count": 3,
   "id": "ae166b79-56b4-46ec-bc53-d9d67a5011b8",
   "metadata": {
    "tags": []
   },
   "outputs": [],
   "source": [
    "#Importing libraries\n",
    "from sklearn.metrics import accuracy_score,classification_report,confusion_matrix,roc_auc_score,roc_curve\n",
    "from sklearn.linear_model import LogisticRegression\n",
    "from sklearn.naive_bayes import MultinomialNB\n",
    "from sklearn.neighbors import KNeighborsClassifier\n",
    "from sklearn.ensemble import RandomForestClassifier\n",
    "from sklearn.svm import SVC\n",
    "from sklearn.tree import DecisionTreeClassifier\n",
    "from sklearn.ensemble import AdaBoostClassifier,GradientBoostingClassifier\n",
    "from sklearn.model_selection import cross_val_score\n",
    "from scipy.stats import zscore\n",
    "from sklearn.preprocessing import LabelEncoder,StandardScaler\n",
    "from sklearn.model_selection import train_test_split,GridSearchCV\n",
    "from sklearn.decomposition import PCA\n",
    "from sklearn.naive_bayes import GaussianNB"
   ]
  },
  {
   "cell_type": "code",
   "execution_count": 4,
   "id": "7a1fb7e4-6c34-4ddc-8d50-a4ec285ea6a1",
   "metadata": {},
   "outputs": [],
   "source": [
    "df = df.drop(columns=['ID','source'])"
   ]
  },
  {
   "cell_type": "code",
   "execution_count": 5,
   "id": "5b16348b-c3e2-4116-bba8-0671204faf5e",
   "metadata": {},
   "outputs": [
    {
     "name": "stdout",
     "output_type": "stream",
     "text": [
      "   Estimated_Insects_Count  Crop_Type  Soil_Type  Pesticide_Use_Category  \\\n",
      "0                    188.0          1          0                       1   \n",
      "1                    209.0          1          0                       1   \n",
      "2                    257.0          1          0                       1   \n",
      "3                    257.0          1          1                       1   \n",
      "4                    342.0          1          0                       1   \n",
      "\n",
      "   Number_Doses_Week  Number_Weeks_Used  Number_Weeks_Quit  Season  \n",
      "0                0.0                0.0                0.0       1  \n",
      "1                0.0                0.0                0.0       2  \n",
      "2                0.0                0.0                0.0       2  \n",
      "3                0.0                0.0                0.0       2  \n",
      "4                0.0                0.0                0.0       2  \n",
      "   Crop_Damage\n",
      "0            0\n",
      "1            1\n",
      "2            1\n",
      "3            1\n",
      "4            1\n"
     ]
    }
   ],
   "source": [
    "df_xc=df.drop(columns=['Crop_Damage'])\n",
    "yc=df[[\"Crop_Damage\"]]\n",
    "print(df_xc.head())\n",
    "print(yc.head())"
   ]
  },
  {
   "cell_type": "code",
   "execution_count": 6,
   "id": "155937bb-511d-406d-8909-da3bc9e182e8",
   "metadata": {},
   "outputs": [],
   "source": [
    "from sklearn.preprocessing import StandardScaler\n",
    "sc = StandardScaler()\n",
    "xc = sc.fit_transform(df_xc)\n",
    "df_xc=pd.DataFrame(xc,columns=df_xc.columns)"
   ]
  },
  {
   "cell_type": "code",
   "execution_count": 7,
   "id": "6b4721ee-a35a-46d4-ae4c-772595606c10",
   "metadata": {},
   "outputs": [],
   "source": [
    "#defining a function to find accuracy score, crossvalidation score for the given dataset\n",
    "def max_acc_score(names,model_c,df_xc,yc):\n",
    "    accuracy_scr_max = 0\n",
    "    for r_state in range(42,100):\n",
    "        train_xc,test_xc,train_yc,test_yc = train_test_split(df_xc,yc,random_state = r_state,test_size = 0.33,stratify = yc)\n",
    "        model_c.fit(train_xc,train_yc)\n",
    "        accuracy_scr = accuracy_score(test_yc,model_c.predict(test_xc))\n",
    "        if accuracy_scr> accuracy_scr_max:\n",
    "            accuracy_scr_max=accuracy_scr\n",
    "            final_state = r_state\n",
    "            final_model = model_c\n",
    "            mean_acc = cross_val_score(final_model,df_xc,yc,cv=5,scoring=\"accuracy\").mean()\n",
    "            std_dev = cross_val_score(final_model,df_xc,yc,cv=5,scoring=\"accuracy\").std()\n",
    "            cross_val = cross_val_score(final_model,df_xc,yc,cv=5,scoring=\"accuracy\")\n",
    "    print('\\033[1m',\"Results for model : \",names,'\\n','\\033[0m'\n",
    "          \"max accuracy score is\" , accuracy_scr_max ,'\\n',\n",
    "          \"Mean accuracy score is : \",mean_acc,'\\n',\n",
    "          \"Std deviation score is : \",std_dev,'\\n',\n",
    "          \"Cross validation scores are :  \" ,cross_val) \n",
    "    print(\" \"*100)"
   ]
  },
  {
   "cell_type": "code",
   "execution_count": 8,
   "id": "6a7663d4-8967-4089-9554-f48b97b7a9ef",
   "metadata": {},
   "outputs": [
    {
     "name": "stdout",
     "output_type": "stream",
     "text": [
      "\u001b[1m Results for model :  KNN \n",
      " \u001b[0mmax accuracy score is 0.8312303914882008 \n",
      " Mean accuracy score is :  0.8278939494737061 \n",
      " Std deviation score is :  0.0013376548817429035 \n",
      " Cross validation scores are :   [0.82995724 0.82731263 0.82584965 0.82825952 0.82809071]\n",
      "                                                                                                    \n"
     ]
    }
   ],
   "source": [
    "#Now by using multiple Algorithms we are calculating the best Algo which suit best for our data set \n",
    "accuracy_scr_max = []\n",
    "accuracy=[]\n",
    "std_dev=[]\n",
    "mean_acc=[]\n",
    "cross_val=[]\n",
    "models=[]\n",
    "#models.append(('Random Forest', RandomForestClassifier()))\n",
    "models.append(('KNN', KNeighborsClassifier()))\n",
    "#models.append(('Decision Tree Classifier', DecisionTreeClassifier()))\n",
    "#models.append(('Gaussian NB',GaussianNB()))\n",
    "\n",
    "\n",
    "for names,model_c in models:\n",
    "    max_acc_score(names,model_c,df_xc,yc)"
   ]
  },
  {
   "cell_type": "code",
   "execution_count": 9,
   "id": "5293ff05-416e-4d09-b9e1-ef8e12f67df8",
   "metadata": {},
   "outputs": [
    {
     "data": {
      "text/plain": [
       "{'n_neighbors': 20}"
      ]
     },
     "execution_count": 9,
     "metadata": {},
     "output_type": "execute_result"
    }
   ],
   "source": [
    "kNN=KNeighborsClassifier()\n",
    "parameters={\"n_neighbors\":range(2,30)}\n",
    "clf = GridSearchCV(kNN, parameters, cv=5,scoring=\"accuracy\")\n",
    "clf.fit(df_xc,yc)\n",
    "clf.best_params_"
   ]
  },
  {
   "cell_type": "code",
   "execution_count": 10,
   "id": "662ad355-7f23-4d0b-a1b7-af534829e3c9",
   "metadata": {},
   "outputs": [
    {
     "name": "stdout",
     "output_type": "stream",
     "text": [
      "\u001b[1m Results for model :  KNeighbors Classifier \n",
      " \u001b[0mmax accuracy score is 0.8442913654344564 \n",
      " Mean accuracy score is :  0.8421301224991421 \n",
      " Std deviation score is :  0.0014742338024393855 \n",
      " Cross validation scores are :   [0.84396804 0.84284267 0.84115463 0.8428901  0.83979517]\n",
      "                                                                                                    \n"
     ]
    }
   ],
   "source": [
    "#Again running KNeighborsClassifier with n_neighbor = 20\n",
    "kNN=KNeighborsClassifier(n_neighbors=20)\n",
    "max_acc_score(\"KNeighbors Classifier\",kNN,df_xc,yc)"
   ]
  },
  {
   "cell_type": "code",
   "execution_count": 11,
   "id": "4dacd226-c857-45ff-8118-97836e0a2efb",
   "metadata": {},
   "outputs": [],
   "source": [
    "xc_train,xc_test,yc_train,yc_test=train_test_split(df_xc, yc,random_state = 80,test_size=0.20,stratify=yc)\n",
    "kNN.fit(xc_train,yc_train)\n",
    "yc_pred=kNN.predict(xc_test)"
   ]
  },
  {
   "cell_type": "code",
   "execution_count": 27,
   "id": "4199a357-f297-4386-ba06-5cab5d64fc59",
   "metadata": {},
   "outputs": [
    {
     "data": {
      "text/plain": [
       "array([0, 0, 0, ..., 0, 0, 0])"
      ]
     },
     "execution_count": 27,
     "metadata": {},
     "output_type": "execute_result"
    }
   ],
   "source": [
    "yc_pred"
   ]
  },
  {
   "cell_type": "code",
   "execution_count": 28,
   "id": "bdb03995-9844-4982-acc1-f170a9ec82a0",
   "metadata": {},
   "outputs": [],
   "source": [
    "nnn = pd.DataFrame(yc_pred)"
   ]
  },
  {
   "cell_type": "code",
   "execution_count": 1,
   "id": "aba0e538-e2d0-47db-b46e-8c408c93c22c",
   "metadata": {},
   "outputs": [
    {
     "ename": "NameError",
     "evalue": "name 'nnn' is not defined",
     "output_type": "error",
     "traceback": [
      "\u001b[0;31m---------------------------------------------------------------------------\u001b[0m",
      "\u001b[0;31mNameError\u001b[0m                                 Traceback (most recent call last)",
      "\u001b[0;32m/var/folders/pl/whkw26x95d98j07qy9vvt0hm0000gn/T/ipykernel_3027/251400920.py\u001b[0m in \u001b[0;36m<module>\u001b[0;34m\u001b[0m\n\u001b[0;32m----> 1\u001b[0;31m \u001b[0mnnn\u001b[0m\u001b[0;34m.\u001b[0m\u001b[0mdescribe\u001b[0m\u001b[0;34m(\u001b[0m\u001b[0;34m)\u001b[0m\u001b[0;34m\u001b[0m\u001b[0;34m\u001b[0m\u001b[0m\n\u001b[0m",
      "\u001b[0;31mNameError\u001b[0m: name 'nnn' is not defined"
     ]
    }
   ],
   "source": [
    "nnn.describe()"
   ]
  },
  {
   "cell_type": "code",
   "execution_count": 13,
   "id": "e44863c6-0f07-4e58-851a-df5ec28e36ee",
   "metadata": {},
   "outputs": [],
   "source": [
    "new = [[188,1,0,1,0,0,0,1]]"
   ]
  },
  {
   "cell_type": "code",
   "execution_count": 14,
   "id": "721c0aaf-6a3c-4edf-bb24-5719878646ac",
   "metadata": {},
   "outputs": [],
   "source": [
    "Ynew=kNN.predict(new)"
   ]
  },
  {
   "cell_type": "code",
   "execution_count": 15,
   "id": "93ef1b43-2ca2-4a96-ad91-82aaf98f7f18",
   "metadata": {},
   "outputs": [
    {
     "data": {
      "text/plain": [
       "array([0])"
      ]
     },
     "execution_count": 15,
     "metadata": {},
     "output_type": "execute_result"
    }
   ],
   "source": [
    "Ynew"
   ]
  },
  {
   "cell_type": "code",
   "execution_count": 16,
   "id": "9badd840-fc51-4a34-85a7-9f4df8ca469c",
   "metadata": {},
   "outputs": [
    {
     "data": {
      "text/plain": [
       "['harvest_outcome_model.pkl']"
      ]
     },
     "execution_count": 16,
     "metadata": {},
     "output_type": "execute_result"
    }
   ],
   "source": [
    "import joblib\n",
    "joblib.dump(kNN, \"harvest_outcome_model.pkl\")"
   ]
  },
  {
   "cell_type": "code",
   "execution_count": 17,
   "id": "75bdaf35-6c16-4be4-a87e-8f0b8baebfb9",
   "metadata": {},
   "outputs": [],
   "source": [
    "data = [[188,1,0,1,0,0,0,1]]"
   ]
  },
  {
   "cell_type": "code",
   "execution_count": 18,
   "id": "26456025-5335-46a8-9db5-4207e1ae883c",
   "metadata": {},
   "outputs": [
    {
     "name": "stdout",
     "output_type": "stream",
     "text": [
      "[0]\n"
     ]
    }
   ],
   "source": [
    "model=joblib.load(\"harvest_outcome_model.pkl\")\n",
    "print(model.predict(data))"
   ]
  },
  {
   "cell_type": "code",
   "execution_count": null,
   "id": "3a41686b-b9c9-40b7-9803-0b73d8c0ed6a",
   "metadata": {},
   "outputs": [],
   "source": []
  },
  {
   "cell_type": "code",
   "execution_count": 25,
   "id": "0b52c293-c591-48a7-8611-41d23264efd3",
   "metadata": {},
   "outputs": [],
   "source": [
    "data = [[342,1,0,1,0,0,0,2]]"
   ]
  },
  {
   "cell_type": "code",
   "execution_count": 26,
   "id": "e3dd7c29-2132-47fa-a8f3-a0706d0b7c91",
   "metadata": {},
   "outputs": [
    {
     "name": "stdout",
     "output_type": "stream",
     "text": [
      "[0]\n"
     ]
    }
   ],
   "source": [
    "model=joblib.load(\"harvest_outcome_model.pkl\")\n",
    "print(model.predict(data))"
   ]
  },
  {
   "cell_type": "raw",
   "id": "87cbf455-0119-488c-8dac-4a4e1e1f120a",
   "metadata": {},
   "source": [
    "from sklearn.metrics import confusion_matrix\n",
    "from sklearn.metrics import classification_report\n",
    "from sklearn.metrics import roc_auc_score\n",
    "\n",
    "print(\"accuracy score is : \",accuracy_score(yc_test,yc_pred))\n",
    "print(\"classification report \\n\",classification_report(yc_test,yc_pred))\n",
    "\n",
    "cnf = confusion_matrix(yc_test,yc_pred)\n",
    "sns.heatmap(cnf, annot=True, cmap = \"Blues\")"
   ]
  },
  {
   "cell_type": "raw",
   "id": "f11e9902-35b9-4df3-9b09-5559d5ad5a2a",
   "metadata": {},
   "source": [
    "#Using adaboost classifier\n",
    "from sklearn.ensemble import AdaBoostClassifier\n",
    "ad=AdaBoostClassifier(n_estimators=10,learning_rate=1)\n",
    "ad.fit(xc_train,yc_train)\n",
    "ad_pred=ad.predict(xc_test)\n",
    "print(accuracy_score(yc_test,ad_pred))\n",
    "print(confusion_matrix(yc_test,ad_pred))\n",
    "print(classification_report(yc_test,ad_pred))"
   ]
  },
  {
   "cell_type": "raw",
   "id": "9576b2b0-3d75-4dda-a9ef-0880510226b4",
   "metadata": {
    "tags": []
   },
   "source": [
    "import lightgbm as lgb\n",
    "clf = lgb.LGBMClassifier()\n",
    "clf.fit(xc_train, yc_train)"
   ]
  },
  {
   "cell_type": "raw",
   "id": "cbe74d9b-c57c-43dc-95c7-4d878de73d24",
   "metadata": {},
   "source": [
    "lg_pred=clf.predict(xc_test)\n",
    "print(accuracy_score(yc_test,lg_pred))\n",
    "print(confusion_matrix(yc_test,lg_pred))\n",
    "print(classification_report(yc_test,lg_pred))"
   ]
  },
  {
   "cell_type": "raw",
   "id": "d4eedbb4-7ac7-4a29-b5d5-5f37067a2d28",
   "metadata": {},
   "source": [
    "import xgboost as xgb\n",
    "model=xgb.XGBClassifier()\n",
    "model.fit(xc_train, yc_train)"
   ]
  },
  {
   "cell_type": "raw",
   "id": "57d576bc-5574-4c33-88f2-0c59c41000da",
   "metadata": {},
   "source": [
    "xgb_pred=model.predict(xc_test)\n",
    "print(accuracy_score(yc_test,xgb_pred))\n",
    "print(confusion_matrix(yc_test,xgb_pred))\n",
    "print(classification_report(yc_test,xgb_pred))"
   ]
  },
  {
   "cell_type": "code",
   "execution_count": null,
   "id": "f55a6352-6de1-4d41-a16d-fb01a8d74b7e",
   "metadata": {},
   "outputs": [],
   "source": []
  }
 ],
 "metadata": {
  "kernelspec": {
   "display_name": "Python 3 (ipykernel)",
   "language": "python",
   "name": "python3"
  },
  "language_info": {
   "codemirror_mode": {
    "name": "ipython",
    "version": 3
   },
   "file_extension": ".py",
   "mimetype": "text/x-python",
   "name": "python",
   "nbconvert_exporter": "python",
   "pygments_lexer": "ipython3",
   "version": "3.8.13"
  }
 },
 "nbformat": 4,
 "nbformat_minor": 5
}
